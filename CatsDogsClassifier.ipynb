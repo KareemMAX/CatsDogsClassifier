{
 "cells": [
  {
   "cell_type": "markdown",
   "metadata": {},
   "source": [
    "# Cats vs. dogs classifier\n",
    "## Folder structure preprocessing"
   ]
  },
  {
   "cell_type": "code",
   "execution_count": null,
   "metadata": {
    "id": "nxzJ7fHo0Ap0"
   },
   "outputs": [],
   "source": [
    "!unzip kaggle_data.zip\n",
    "!rm kaggle_data.zip\n",
    "!mkdir kaggle_data\n",
    "!mv test.zip kaggle_data\n",
    "!mv train.zip kaggle_data\n",
    "!mv sample_submission.csv kaggle_data"
   ]
  },
  {
   "cell_type": "code",
   "execution_count": null,
   "metadata": {
    "colab": {
     "base_uri": "https://localhost:8080/"
    },
    "id": "hXvcS-C51H16",
    "outputId": "25891307-db92-42a1-f485-9d15e67c4dde"
   },
   "outputs": [],
   "source": [
    "%cd kaggle_data\n",
    "\n",
    "!unzip test.zip\n",
    "!unzip train.zip\n",
    "\n",
    "%cd .."
   ]
  },
  {
   "cell_type": "code",
   "execution_count": null,
   "metadata": {
    "colab": {
     "base_uri": "https://localhost:8080/"
    },
    "id": "CygFeNGFS7YE",
    "outputId": "9120d22d-9476-4089-b515-26289640267b"
   },
   "outputs": [],
   "source": [
    "!mkdir kaggle_data/input\n",
    "!mkdir kaggle_data/input/dogs\n",
    "!mkdir kaggle_data/input/cats\n",
    "!mv kaggle_data/test kaggle_data/input/dogs"
   ]
  },
  {
   "cell_type": "code",
   "execution_count": 4,
   "metadata": {
    "id": "q-AvvCkMUp7a"
   },
   "outputs": [],
   "source": [
    "import os\n",
    "import shutil\n",
    "import random\n",
    "\n",
    "def distribute_train_validation_split(validation_size=0.2):\n",
    "\n",
    "    all_images = os.listdir('./kaggle_data/train/')\n",
    "    random.shuffle(all_images)\n",
    "\n",
    "    all_dogs = list(filter(lambda image: 'dog' in image, all_images))\n",
    "    all_cats = list(filter(lambda image: 'cat' in image, all_images))\n",
    "\n",
    "    index_to_split = int(len(all_dogs) - len(all_dogs) * validation_size)\n",
    "    training_dogs = all_dogs[:index_to_split]\n",
    "    validation_dogs = all_dogs[index_to_split:]\n",
    "    training_cats = all_cats[:index_to_split]\n",
    "    validation_cats = all_cats[index_to_split:]\n",
    "\n",
    "    shutil.rmtree('./processed_data', ignore_errors=True)\n",
    "    os.makedirs('./processed_data/train/dogs/', exist_ok=True)\n",
    "    os.makedirs('./processed_data/train/cats/', exist_ok=True)\n",
    "    os.makedirs('./processed_data/validation/dogs/', exist_ok=True)\n",
    "    os.makedirs('./processed_data/validation/cats/', exist_ok=True)\n",
    "\n",
    "    copy_images_to_dir(training_dogs, './processed_data/train/dogs')\n",
    "    copy_images_to_dir(validation_dogs, './processed_data/validation/dogs')\n",
    "    copy_images_to_dir(training_cats, './processed_data/train/cats')\n",
    "    copy_images_to_dir(validation_cats, './processed_data/validation/cats')\n",
    "\n",
    "def copy_images_to_dir(images_to_copy, destination):\n",
    "    for image in images_to_copy:\n",
    "        shutil.copyfile(f'./kaggle_data/train/{image}', f'{destination}/{image}')\n"
   ]
  },
  {
   "cell_type": "code",
   "execution_count": 5,
   "metadata": {
    "id": "imaaJ18DUp7b"
   },
   "outputs": [],
   "source": [
    "distribute_train_validation_split(0.20)"
   ]
  },
  {
   "cell_type": "markdown",
   "metadata": {},
   "source": [
    "## Setting up environment"
   ]
  },
  {
   "cell_type": "code",
   "execution_count": null,
   "metadata": {},
   "outputs": [],
   "source": [
    "%pip install scipy\n",
    "%pip install pandas"
   ]
  },
  {
   "cell_type": "code",
   "execution_count": 2,
   "metadata": {
    "colab": {
     "base_uri": "https://localhost:8080/"
    },
    "id": "OMmYr5IxUp7c",
    "outputId": "dd9cf709-9869-47bc-ac59-f99e1f358d91"
   },
   "outputs": [
    {
     "data": {
      "text/plain": [
       "[PhysicalDevice(name='/physical_device:GPU:0', device_type='GPU')]"
      ]
     },
     "execution_count": 2,
     "metadata": {},
     "output_type": "execute_result"
    }
   ],
   "source": [
    "import tensorflow as tf\n",
    "from tensorflow.keras.preprocessing.image import ImageDataGenerator\n",
    "\n",
    "tf.config.list_physical_devices('GPU')"
   ]
  },
  {
   "cell_type": "code",
   "execution_count": 3,
   "metadata": {},
   "outputs": [],
   "source": [
    "physical_devices = tf.config.experimental.list_physical_devices('GPU')\n",
    "if len(physical_devices) > 0:\n",
    "    tf.config.experimental.set_memory_growth(physical_devices[0], True)"
   ]
  },
  {
   "cell_type": "code",
   "execution_count": 4,
   "metadata": {},
   "outputs": [],
   "source": [
    "DIMENSIONS = 200"
   ]
  },
  {
   "cell_type": "markdown",
   "metadata": {},
   "source": [
    "## Training"
   ]
  },
  {
   "cell_type": "code",
   "execution_count": 5,
   "metadata": {
    "colab": {
     "base_uri": "https://localhost:8080/"
    },
    "id": "jFdt2-mSUp7c",
    "outputId": "b8dad32e-7a97-4e5c-e8f3-1d793ee381a2"
   },
   "outputs": [
    {
     "name": "stdout",
     "output_type": "stream",
     "text": [
      "Found 20000 images belonging to 2 classes.\n",
      "Found 5000 images belonging to 2 classes.\n"
     ]
    }
   ],
   "source": [
    "train_imagedatagenerator = ImageDataGenerator(\n",
    "                            rescale=1. / 255,\n",
    "                            rotation_range=40,\n",
    "                            width_shift_range=0.2,\n",
    "                            height_shift_range=0.2,\n",
    "                            shear_range=0.2,\n",
    "                            zoom_range=0.2,\n",
    "                            horizontal_flip=True,\n",
    "                            fill_mode='nearest')\n",
    "validation_imagedatagenerator = ImageDataGenerator(rescale=1/255.0)\n",
    "\n",
    "train_iterator = train_imagedatagenerator.flow_from_directory(\n",
    "    './processed_data/train',\n",
    "    target_size=(DIMENSIONS, DIMENSIONS),\n",
    "    batch_size=200,\n",
    "    class_mode='binary')\n",
    "\n",
    "validation_iterator = validation_imagedatagenerator.flow_from_directory(\n",
    "    './processed_data/validation',\n",
    "    target_size=(DIMENSIONS, DIMENSIONS),\n",
    "    batch_size=50,\n",
    "    class_mode='binary')"
   ]
  },
  {
   "cell_type": "code",
   "execution_count": 6,
   "metadata": {
    "id": "60FiOfEzUp7c"
   },
   "outputs": [],
   "source": [
    "from tensorflow import keras\n",
    "\n",
    "model = keras.Sequential([\n",
    "    keras.layers.Conv2D(16, (3, 3), activation='relu', input_shape=(DIMENSIONS, DIMENSIONS, 3)),\n",
    "    keras.layers.MaxPool2D((2, 2)),\n",
    "    keras.layers.Conv2D(32, (3, 3), activation='relu'),\n",
    "    keras.layers.MaxPool2D((2, 2)),\n",
    "    keras.layers.Conv2D(64, (3, 3), activation='relu'),\n",
    "    keras.layers.MaxPool2D((2, 2)),\n",
    "    keras.layers.Flatten(),\n",
    "    keras.layers.Dense(1024, activation='relu'),\n",
    "    keras.layers.Dense(512, activation='relu'),\n",
    "    keras.layers.Dense(1, activation='sigmoid')\n",
    "])"
   ]
  },
  {
   "cell_type": "code",
   "execution_count": 7,
   "metadata": {
    "colab": {
     "base_uri": "https://localhost:8080/"
    },
    "id": "KBtVyfiiUp7c",
    "outputId": "1718f694-3e43-4ed1-f839-2a22d90d543d"
   },
   "outputs": [
    {
     "name": "stdout",
     "output_type": "stream",
     "text": [
      "Model: \"sequential\"\n",
      "_________________________________________________________________\n",
      " Layer (type)                Output Shape              Param #   \n",
      "=================================================================\n",
      " conv2d (Conv2D)             (None, 198, 198, 16)      448       \n",
      "                                                                 \n",
      " max_pooling2d (MaxPooling2D  (None, 99, 99, 16)       0         \n",
      " )                                                               \n",
      "                                                                 \n",
      " conv2d_1 (Conv2D)           (None, 97, 97, 32)        4640      \n",
      "                                                                 \n",
      " max_pooling2d_1 (MaxPooling  (None, 48, 48, 32)       0         \n",
      " 2D)                                                             \n",
      "                                                                 \n",
      " conv2d_2 (Conv2D)           (None, 46, 46, 64)        18496     \n",
      "                                                                 \n",
      " max_pooling2d_2 (MaxPooling  (None, 23, 23, 64)       0         \n",
      " 2D)                                                             \n",
      "                                                                 \n",
      " flatten (Flatten)           (None, 33856)             0         \n",
      "                                                                 \n",
      " dense (Dense)               (None, 1024)              34669568  \n",
      "                                                                 \n",
      " dense_1 (Dense)             (None, 512)               524800    \n",
      "                                                                 \n",
      " dense_2 (Dense)             (None, 1)                 513       \n",
      "                                                                 \n",
      "=================================================================\n",
      "Total params: 35,218,465\n",
      "Trainable params: 35,218,465\n",
      "Non-trainable params: 0\n",
      "_________________________________________________________________\n"
     ]
    }
   ],
   "source": [
    "model.compile(optimizer='adam', loss='binary_crossentropy', metrics=['accuracy'])\n",
    "model.summary()"
   ]
  },
  {
   "cell_type": "code",
   "execution_count": 8,
   "metadata": {
    "colab": {
     "base_uri": "https://localhost:8080/"
    },
    "id": "Kg6NBLjZUp7c",
    "outputId": "7825f082-c226-43a5-a6d4-9bcc12ecc237"
   },
   "outputs": [
    {
     "name": "stdout",
     "output_type": "stream",
     "text": [
      "Epoch 1/100\n",
      "100/100 [==============================] - 171s 2s/step - loss: 0.8158 - accuracy: 0.5721 - val_loss: 0.6468 - val_accuracy: 0.6188\n",
      "Epoch 2/100\n",
      "100/100 [==============================] - 149s 1s/step - loss: 0.6187 - accuracy: 0.6583 - val_loss: 0.5715 - val_accuracy: 0.6982\n",
      "Epoch 3/100\n",
      "100/100 [==============================] - 174s 2s/step - loss: 0.5818 - accuracy: 0.6918 - val_loss: 0.5387 - val_accuracy: 0.7206\n",
      "Epoch 4/100\n",
      "100/100 [==============================] - 151s 2s/step - loss: 0.5623 - accuracy: 0.7070 - val_loss: 0.5245 - val_accuracy: 0.7300\n",
      "Epoch 5/100\n",
      "100/100 [==============================] - 146s 1s/step - loss: 0.5407 - accuracy: 0.7243 - val_loss: 0.5057 - val_accuracy: 0.7454\n",
      "Epoch 6/100\n",
      "100/100 [==============================] - 146s 1s/step - loss: 0.5384 - accuracy: 0.7266 - val_loss: 0.4984 - val_accuracy: 0.7472\n",
      "Epoch 7/100\n",
      "100/100 [==============================] - 146s 1s/step - loss: 0.5173 - accuracy: 0.7442 - val_loss: 0.4610 - val_accuracy: 0.7756\n",
      "Epoch 8/100\n",
      "100/100 [==============================] - 168s 2s/step - loss: 0.5116 - accuracy: 0.7430 - val_loss: 0.4564 - val_accuracy: 0.7738\n",
      "Epoch 9/100\n",
      "100/100 [==============================] - 158s 2s/step - loss: 0.5031 - accuracy: 0.7505 - val_loss: 0.4456 - val_accuracy: 0.7820\n",
      "Epoch 10/100\n",
      "100/100 [==============================] - 146s 1s/step - loss: 0.4888 - accuracy: 0.7605 - val_loss: 0.4468 - val_accuracy: 0.7856\n",
      "Epoch 11/100\n",
      "100/100 [==============================] - 146s 1s/step - loss: 0.4869 - accuracy: 0.7635 - val_loss: 0.4376 - val_accuracy: 0.7904\n",
      "Epoch 12/100\n",
      "100/100 [==============================] - 1490s 15s/step - loss: 0.4626 - accuracy: 0.7800 - val_loss: 0.4268 - val_accuracy: 0.7972\n",
      "Epoch 13/100\n",
      "100/100 [==============================] - 146s 1s/step - loss: 0.4650 - accuracy: 0.7789 - val_loss: 0.4182 - val_accuracy: 0.8046\n",
      "Epoch 14/100\n",
      "100/100 [==============================] - 170s 2s/step - loss: 0.4558 - accuracy: 0.7832 - val_loss: 0.4111 - val_accuracy: 0.8040\n",
      "Epoch 15/100\n",
      "100/100 [==============================] - 148s 1s/step - loss: 0.4426 - accuracy: 0.7905 - val_loss: 0.4037 - val_accuracy: 0.8078\n",
      "Epoch 16/100\n",
      "100/100 [==============================] - 146s 1s/step - loss: 0.4333 - accuracy: 0.7983 - val_loss: 0.3927 - val_accuracy: 0.8204\n",
      "Epoch 17/100\n",
      "100/100 [==============================] - 146s 1s/step - loss: 0.4338 - accuracy: 0.7997 - val_loss: 0.4712 - val_accuracy: 0.7694\n",
      "Epoch 18/100\n",
      "100/100 [==============================] - 146s 1s/step - loss: 0.4165 - accuracy: 0.8094 - val_loss: 0.4010 - val_accuracy: 0.8126\n",
      "Epoch 19/100\n",
      "100/100 [==============================] - 146s 1s/step - loss: 0.4201 - accuracy: 0.8044 - val_loss: 0.3948 - val_accuracy: 0.8120\n",
      "Epoch 20/100\n",
      "100/100 [==============================] - 931s 9s/step - loss: 0.4070 - accuracy: 0.8130 - val_loss: 0.3685 - val_accuracy: 0.8296\n",
      "Epoch 21/100\n",
      "100/100 [==============================] - 155s 2s/step - loss: 0.3976 - accuracy: 0.8185 - val_loss: 0.3892 - val_accuracy: 0.8290\n",
      "Epoch 22/100\n",
      "100/100 [==============================] - 147s 1s/step - loss: 0.4019 - accuracy: 0.8159 - val_loss: 0.3603 - val_accuracy: 0.8366\n",
      "Epoch 23/100\n",
      "100/100 [==============================] - 147s 1s/step - loss: 0.3819 - accuracy: 0.8296 - val_loss: 0.3673 - val_accuracy: 0.8302\n",
      "Epoch 24/100\n",
      "100/100 [==============================] - 145s 1s/step - loss: 0.3774 - accuracy: 0.8313 - val_loss: 0.3394 - val_accuracy: 0.8484\n",
      "Epoch 25/100\n",
      "100/100 [==============================] - 148s 1s/step - loss: 0.3674 - accuracy: 0.8360 - val_loss: 0.3253 - val_accuracy: 0.8600\n",
      "Epoch 26/100\n",
      "100/100 [==============================] - 146s 1s/step - loss: 0.3706 - accuracy: 0.8355 - val_loss: 0.3170 - val_accuracy: 0.8642\n",
      "Epoch 27/100\n",
      "100/100 [==============================] - 146s 1s/step - loss: 0.3569 - accuracy: 0.8400 - val_loss: 0.3226 - val_accuracy: 0.8546\n",
      "Epoch 28/100\n",
      "100/100 [==============================] - 146s 1s/step - loss: 0.3449 - accuracy: 0.8486 - val_loss: 0.3380 - val_accuracy: 0.8518\n",
      "Epoch 29/100\n",
      "100/100 [==============================] - 148s 1s/step - loss: 0.3497 - accuracy: 0.8426 - val_loss: 0.3215 - val_accuracy: 0.8596\n",
      "Epoch 30/100\n",
      "100/100 [==============================] - 146s 1s/step - loss: 0.3379 - accuracy: 0.8516 - val_loss: 0.3096 - val_accuracy: 0.8620\n",
      "Epoch 31/100\n",
      "100/100 [==============================] - 146s 1s/step - loss: 0.3387 - accuracy: 0.8519 - val_loss: 0.3026 - val_accuracy: 0.8690\n",
      "Epoch 32/100\n",
      "100/100 [==============================] - 146s 1s/step - loss: 0.3407 - accuracy: 0.8471 - val_loss: 0.3305 - val_accuracy: 0.8484\n",
      "Epoch 33/100\n",
      "100/100 [==============================] - 146s 1s/step - loss: 0.3257 - accuracy: 0.8558 - val_loss: 0.2965 - val_accuracy: 0.8756\n",
      "Epoch 34/100\n",
      "100/100 [==============================] - 146s 1s/step - loss: 0.3190 - accuracy: 0.8623 - val_loss: 0.2888 - val_accuracy: 0.8780\n",
      "Epoch 35/100\n",
      "100/100 [==============================] - 146s 1s/step - loss: 0.3133 - accuracy: 0.8630 - val_loss: 0.2749 - val_accuracy: 0.8808\n",
      "Epoch 36/100\n",
      "100/100 [==============================] - 146s 1s/step - loss: 0.3077 - accuracy: 0.8642 - val_loss: 0.3073 - val_accuracy: 0.8652\n",
      "Epoch 37/100\n",
      "100/100 [==============================] - 303s 3s/step - loss: 0.3053 - accuracy: 0.8687 - val_loss: 0.2694 - val_accuracy: 0.8860\n",
      "Epoch 38/100\n",
      "100/100 [==============================] - 146s 1s/step - loss: 0.2970 - accuracy: 0.8740 - val_loss: 0.2738 - val_accuracy: 0.8796\n",
      "Epoch 39/100\n",
      "100/100 [==============================] - 145s 1s/step - loss: 0.3003 - accuracy: 0.8684 - val_loss: 0.2715 - val_accuracy: 0.8876\n",
      "Epoch 40/100\n",
      "100/100 [==============================] - 146s 1s/step - loss: 0.3013 - accuracy: 0.8687 - val_loss: 0.2619 - val_accuracy: 0.8884\n",
      "Epoch 41/100\n",
      "100/100 [==============================] - 146s 1s/step - loss: 0.2935 - accuracy: 0.8722 - val_loss: 0.2821 - val_accuracy: 0.8856\n",
      "Epoch 42/100\n",
      "100/100 [==============================] - 146s 1s/step - loss: 0.2980 - accuracy: 0.8724 - val_loss: 0.2606 - val_accuracy: 0.8900\n",
      "Epoch 43/100\n",
      "100/100 [==============================] - 146s 1s/step - loss: 0.2848 - accuracy: 0.8785 - val_loss: 0.2630 - val_accuracy: 0.8936\n",
      "Epoch 44/100\n",
      "100/100 [==============================] - 146s 1s/step - loss: 0.2891 - accuracy: 0.8742 - val_loss: 0.2932 - val_accuracy: 0.8738\n",
      "Epoch 45/100\n",
      "100/100 [==============================] - 145s 1s/step - loss: 0.2868 - accuracy: 0.8749 - val_loss: 0.2612 - val_accuracy: 0.8894\n",
      "Epoch 46/100\n",
      "100/100 [==============================] - 336s 3s/step - loss: 0.2808 - accuracy: 0.8781 - val_loss: 0.2609 - val_accuracy: 0.8846\n",
      "Epoch 47/100\n",
      "100/100 [==============================] - 148s 1s/step - loss: 0.2758 - accuracy: 0.8809 - val_loss: 0.2682 - val_accuracy: 0.8912\n",
      "Epoch 48/100\n",
      "100/100 [==============================] - 146s 1s/step - loss: 0.2832 - accuracy: 0.8785 - val_loss: 0.2811 - val_accuracy: 0.8758\n",
      "Epoch 49/100\n",
      "100/100 [==============================] - 146s 1s/step - loss: 0.2767 - accuracy: 0.8794 - val_loss: 0.2462 - val_accuracy: 0.8958\n",
      "Epoch 50/100\n",
      "100/100 [==============================] - 146s 1s/step - loss: 0.2725 - accuracy: 0.8833 - val_loss: 0.2488 - val_accuracy: 0.8954\n",
      "Epoch 51/100\n",
      "100/100 [==============================] - 146s 1s/step - loss: 0.2680 - accuracy: 0.8843 - val_loss: 0.2303 - val_accuracy: 0.9040\n",
      "Epoch 52/100\n",
      "100/100 [==============================] - 151s 2s/step - loss: 0.2731 - accuracy: 0.8812 - val_loss: 0.2791 - val_accuracy: 0.8770\n",
      "Epoch 53/100\n",
      "100/100 [==============================] - 156s 2s/step - loss: 0.2636 - accuracy: 0.8856 - val_loss: 0.2277 - val_accuracy: 0.9024\n",
      "Epoch 54/100\n",
      "100/100 [==============================] - 152s 2s/step - loss: 0.2583 - accuracy: 0.8900 - val_loss: 0.2249 - val_accuracy: 0.9056\n",
      "Epoch 55/100\n",
      "100/100 [==============================] - 155s 2s/step - loss: 0.2635 - accuracy: 0.8859 - val_loss: 0.2376 - val_accuracy: 0.8998\n",
      "Epoch 56/100\n",
      "100/100 [==============================] - 155s 2s/step - loss: 0.2567 - accuracy: 0.8902 - val_loss: 0.2397 - val_accuracy: 0.8962\n",
      "Epoch 57/100\n",
      "100/100 [==============================] - 153s 2s/step - loss: 0.2607 - accuracy: 0.8885 - val_loss: 0.2465 - val_accuracy: 0.8922\n",
      "Epoch 58/100\n",
      "100/100 [==============================] - 154s 2s/step - loss: 0.2526 - accuracy: 0.8900 - val_loss: 0.2252 - val_accuracy: 0.9006\n",
      "Epoch 59/100\n",
      "100/100 [==============================] - 156s 2s/step - loss: 0.2590 - accuracy: 0.8872 - val_loss: 0.2349 - val_accuracy: 0.9026\n",
      "Epoch 60/100\n",
      "100/100 [==============================] - 153s 2s/step - loss: 0.2495 - accuracy: 0.8943 - val_loss: 0.2395 - val_accuracy: 0.8934\n",
      "Epoch 61/100\n",
      "100/100 [==============================] - 156s 2s/step - loss: 0.2450 - accuracy: 0.8963 - val_loss: 0.2870 - val_accuracy: 0.8718\n",
      "Epoch 62/100\n",
      "100/100 [==============================] - 154s 2s/step - loss: 0.2493 - accuracy: 0.8918 - val_loss: 0.3280 - val_accuracy: 0.8614\n",
      "Epoch 63/100\n",
      "100/100 [==============================] - 153s 2s/step - loss: 0.2591 - accuracy: 0.8896 - val_loss: 0.2241 - val_accuracy: 0.9052\n",
      "Epoch 64/100\n",
      "100/100 [==============================] - 154s 2s/step - loss: 0.2425 - accuracy: 0.8956 - val_loss: 0.3026 - val_accuracy: 0.8724\n",
      "Epoch 65/100\n",
      "100/100 [==============================] - 150s 1s/step - loss: 0.2390 - accuracy: 0.8963 - val_loss: 0.2190 - val_accuracy: 0.9038\n",
      "Epoch 66/100\n",
      "100/100 [==============================] - 148s 1s/step - loss: 0.2414 - accuracy: 0.8991 - val_loss: 0.2326 - val_accuracy: 0.9000\n",
      "Epoch 67/100\n",
      "100/100 [==============================] - 150s 1s/step - loss: 0.2348 - accuracy: 0.9008 - val_loss: 0.2170 - val_accuracy: 0.9076\n",
      "Epoch 68/100\n",
      "100/100 [==============================] - 149s 1s/step - loss: 0.2406 - accuracy: 0.8985 - val_loss: 0.2283 - val_accuracy: 0.8980\n",
      "Epoch 69/100\n",
      "100/100 [==============================] - 149s 1s/step - loss: 0.2354 - accuracy: 0.9015 - val_loss: 0.2084 - val_accuracy: 0.9112\n",
      "Epoch 70/100\n",
      "100/100 [==============================] - 149s 1s/step - loss: 0.2430 - accuracy: 0.8952 - val_loss: 0.2876 - val_accuracy: 0.8762\n",
      "Epoch 71/100\n",
      "100/100 [==============================] - 149s 1s/step - loss: 0.2383 - accuracy: 0.9000 - val_loss: 0.2178 - val_accuracy: 0.9022\n",
      "Epoch 72/100\n",
      "100/100 [==============================] - 149s 1s/step - loss: 0.2284 - accuracy: 0.9031 - val_loss: 0.2273 - val_accuracy: 0.9030\n",
      "Epoch 73/100\n",
      "100/100 [==============================] - 148s 1s/step - loss: 0.2298 - accuracy: 0.9018 - val_loss: 0.2495 - val_accuracy: 0.8888\n",
      "Epoch 74/100\n",
      "100/100 [==============================] - 155s 2s/step - loss: 0.2344 - accuracy: 0.9004 - val_loss: 0.2403 - val_accuracy: 0.8974\n",
      "Epoch 75/100\n",
      "100/100 [==============================] - 162s 2s/step - loss: 0.2203 - accuracy: 0.9068 - val_loss: 0.2173 - val_accuracy: 0.9060\n",
      "Epoch 76/100\n",
      "100/100 [==============================] - 153s 2s/step - loss: 0.2255 - accuracy: 0.9058 - val_loss: 0.2333 - val_accuracy: 0.8996\n",
      "Epoch 77/100\n",
      "100/100 [==============================] - 149s 1s/step - loss: 0.2229 - accuracy: 0.9066 - val_loss: 0.2207 - val_accuracy: 0.9064\n",
      "Epoch 78/100\n",
      "100/100 [==============================] - 151s 2s/step - loss: 0.2222 - accuracy: 0.9059 - val_loss: 0.2109 - val_accuracy: 0.9124\n",
      "Epoch 79/100\n",
      "100/100 [==============================] - 149s 1s/step - loss: 0.2252 - accuracy: 0.9055 - val_loss: 0.2063 - val_accuracy: 0.9120\n",
      "Epoch 80/100\n",
      "100/100 [==============================] - 149s 1s/step - loss: 0.2107 - accuracy: 0.9104 - val_loss: 0.1948 - val_accuracy: 0.9190\n",
      "Epoch 81/100\n",
      "100/100 [==============================] - 148s 1s/step - loss: 0.2183 - accuracy: 0.9079 - val_loss: 0.2155 - val_accuracy: 0.9066\n",
      "Epoch 82/100\n",
      "100/100 [==============================] - 148s 1s/step - loss: 0.2201 - accuracy: 0.9079 - val_loss: 0.2182 - val_accuracy: 0.9066\n",
      "Epoch 83/100\n",
      "100/100 [==============================] - 149s 1s/step - loss: 0.2127 - accuracy: 0.9106 - val_loss: 0.2015 - val_accuracy: 0.9140\n",
      "Epoch 84/100\n",
      "100/100 [==============================] - 150s 1s/step - loss: 0.2143 - accuracy: 0.9097 - val_loss: 0.1951 - val_accuracy: 0.9210\n",
      "Epoch 85/100\n",
      "100/100 [==============================] - 149s 1s/step - loss: 0.2089 - accuracy: 0.9114 - val_loss: 0.2159 - val_accuracy: 0.9020\n",
      "Epoch 86/100\n",
      "100/100 [==============================] - 149s 1s/step - loss: 0.2086 - accuracy: 0.9136 - val_loss: 0.2324 - val_accuracy: 0.8984\n",
      "Epoch 87/100\n",
      "100/100 [==============================] - 153s 2s/step - loss: 0.2136 - accuracy: 0.9097 - val_loss: 0.2352 - val_accuracy: 0.8972\n",
      "Epoch 88/100\n",
      "100/100 [==============================] - 152s 2s/step - loss: 0.2131 - accuracy: 0.9107 - val_loss: 0.2119 - val_accuracy: 0.9124\n",
      "Epoch 89/100\n",
      "100/100 [==============================] - 150s 1s/step - loss: 0.2099 - accuracy: 0.9118 - val_loss: 0.2268 - val_accuracy: 0.9016\n",
      "Epoch 90/100\n",
      "100/100 [==============================] - 149s 1s/step - loss: 0.2063 - accuracy: 0.9144 - val_loss: 0.1966 - val_accuracy: 0.9162\n",
      "Epoch 91/100\n",
      "100/100 [==============================] - 149s 1s/step - loss: 0.2090 - accuracy: 0.9118 - val_loss: 0.2008 - val_accuracy: 0.9154\n",
      "Epoch 92/100\n",
      "100/100 [==============================] - 149s 1s/step - loss: 0.2021 - accuracy: 0.9155 - val_loss: 0.1916 - val_accuracy: 0.9186\n",
      "Epoch 93/100\n",
      "100/100 [==============================] - 149s 1s/step - loss: 0.2046 - accuracy: 0.9119 - val_loss: 0.1895 - val_accuracy: 0.9192\n",
      "Epoch 94/100\n",
      "100/100 [==============================] - 149s 1s/step - loss: 0.2075 - accuracy: 0.9127 - val_loss: 0.1990 - val_accuracy: 0.9138\n",
      "Epoch 95/100\n",
      "100/100 [==============================] - 149s 1s/step - loss: 0.2116 - accuracy: 0.9101 - val_loss: 0.1986 - val_accuracy: 0.9152\n",
      "Epoch 96/100\n",
      "100/100 [==============================] - 149s 1s/step - loss: 0.2047 - accuracy: 0.9154 - val_loss: 0.1920 - val_accuracy: 0.9190\n",
      "Epoch 97/100\n",
      "100/100 [==============================] - 149s 1s/step - loss: 0.1943 - accuracy: 0.9198 - val_loss: 0.2430 - val_accuracy: 0.9026\n",
      "Epoch 98/100\n",
      "100/100 [==============================] - 148s 1s/step - loss: 0.2043 - accuracy: 0.9156 - val_loss: 0.2117 - val_accuracy: 0.9120\n",
      "Epoch 99/100\n",
      "100/100 [==============================] - 150s 1s/step - loss: 0.1962 - accuracy: 0.9176 - val_loss: 0.2069 - val_accuracy: 0.9124\n",
      "Epoch 100/100\n",
      "100/100 [==============================] - 151s 2s/step - loss: 0.2037 - accuracy: 0.9137 - val_loss: 0.1993 - val_accuracy: 0.9176\n"
     ]
    }
   ],
   "source": [
    "history = model.fit(train_iterator,\n",
    "                    validation_data=validation_iterator,\n",
    "                    steps_per_epoch=100,\n",
    "                    epochs=100,\n",
    "                    validation_steps=100)"
   ]
  },
  {
   "cell_type": "markdown",
   "metadata": {},
   "source": [
    "## Plotting results and saving it"
   ]
  },
  {
   "cell_type": "code",
   "execution_count": 9,
   "metadata": {
    "id": "4XbxqT3jUp7d"
   },
   "outputs": [],
   "source": [
    "import matplotlib.pyplot as plt\n",
    "\n",
    "def plot_result(history):\n",
    "    acc = history.history['accuracy']\n",
    "    val_acc = history.history['val_accuracy']\n",
    "    epochs = range(len(acc))\n",
    "\n",
    "    plt.plot(epochs, acc, 'b', label='Training accuracy')\n",
    "    plt.plot(epochs, val_acc, 'r', label='Validation accuracy')\n",
    "    plt.title('Training and validation accuracy')\n",
    "    plt.legend()\n",
    "    plt.figure()\n",
    "\n",
    "    loss = history.history['loss']\n",
    "    val_loss = history.history['val_loss']\n",
    "    plt.plot(epochs, loss, 'b', label='Training Loss')\n",
    "    plt.plot(epochs, val_loss, 'r', label='Validation Loss')\n",
    "    plt.title('Training and validation loss')\n",
    "    plt.legend()\n",
    "    plt.show()"
   ]
  },
  {
   "cell_type": "code",
   "execution_count": 10,
   "metadata": {
    "id": "EqFZnrOyUp7d"
   },
   "outputs": [
    {
     "data": {
      "image/png": "[encoded data removed]",
      "text/plain": [
       "<Figure size 640x480 with 1 Axes>"
      ]
     },
     "metadata": {},
     "output_type": "display_data"
    },
    {
     "data": {
      "image/png": "[encoded data removed]",
      "text/plain": [
       "<Figure size 640x480 with 1 Axes>"
      ]
     },
     "metadata": {},
     "output_type": "display_data"
    }
   ],
   "source": [
    "plot_result(history)"
   ]
  },
  {
   "cell_type": "code",
   "execution_count": 18,
   "metadata": {
    "id": "aWvTuFKsYSJX"
   },
   "outputs": [
    {
     "name": "stdout",
     "output_type": "stream",
     "text": [
      "Found 12500 images belonging to 2 classes.\n",
      "12500/12500 [==============================] - 50s 4ms/step\n"
     ]
    }
   ],
   "source": [
    "test_generator = ImageDataGenerator(rescale=1. / 255)\n",
    "\n",
    "test_iterator = test_generator.flow_from_directory(\n",
    "    './kaggle_data/input/',\n",
    "    target_size=(DIMENSIONS, DIMENSIONS),\n",
    "    shuffle=False,\n",
    "    class_mode='binary',\n",
    "    batch_size=1)\n",
    "\n",
    "ids = []\n",
    "for filename in test_iterator.filenames:\n",
    "    ids.append(int(filename.split('/')[1].split('.')[0]))\n",
    "\n",
    "predict_result = model.predict(test_iterator, steps=len(test_iterator.filenames))\n",
    "predictions = []\n",
    "for index, prediction in enumerate(predict_result):\n",
    "    predictions.append([ids[index], prediction[0]])\n",
    "predictions.sort()"
   ]
  },
  {
   "cell_type": "code",
   "execution_count": 22,
   "metadata": {
    "id": "yRcbjmKeTzS7"
   },
   "outputs": [],
   "source": [
    "import pandas as pd\n",
    "\n",
    "\n",
    "df = pd.DataFrame(data=predictions, index=range(1, 12501), columns=['id', 'label'])\n",
    "df = df.set_index(['id'])\n",
    "df.to_csv('submission.csv')"
   ]
  }
 ],
 "metadata": {
  "accelerator": "GPU",
  "colab": {
   "collapsed_sections": [],
   "provenance": []
  },
  "kernelspec": {
   "display_name": "Python 3",
   "language": "python",
   "name": "python3"
  },
  "language_info": {
   "codemirror_mode": {
    "name": "ipython",
    "version": 3
   },
   "file_extension": ".py",
   "mimetype": "text/x-python",
   "name": "python",
   "nbconvert_exporter": "python",
   "pygments_lexer": "ipython3",
   "version": "3.8.10"
  },
  "vscode": {
   "interpreter": {
    "hash": "5180b977f8d8d7dc150cd187960f6c154734bcfc9201f46d12b0f9d48f671324"
   }
  }
 },
 "nbformat": 4,
 "nbformat_minor": 1
}
